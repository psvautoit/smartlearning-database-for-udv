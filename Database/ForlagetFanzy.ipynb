{
    "metadata": {
        "kernelspec": {
            "name": "SQL",
            "display_name": "SQL",
            "language": "sql"
        },
        "language_info": {
            "name": "sql",
            "version": ""
        }
    },
    "nbformat_minor": 2,
    "nbformat": 4,
    "cells": [
        {
            "cell_type": "markdown",
            "source": [
                "Create a Database called Smartlearning or switch to another one.  \n",
                "Then put the databasename in the USE statement."
            ],
            "metadata": {
                "azdata_cell_guid": "bcc0f743-c9db-4276-8617-d8126a309b9b"
            }
        },
        {
            "cell_type": "code",
            "source": [
                "USE [Smartlearning]\r\n",
                "GO"
            ],
            "metadata": {
                "azdata_cell_guid": "92837d6c-0491-44d2-9eef-96cdc2e00ff4",
                "tags": [
                    "hide_input"
                ]
            },
            "outputs": [
                {
                    "output_type": "error",
                    "ename": "",
                    "evalue": "Msg 2714, Level 16, State 6, Line 1\r\nThere is already an object named 'Fanzy' in the database.",
                    "traceback": []
                },
                {
                    "output_type": "error",
                    "ename": "",
                    "evalue": "Msg 2759, Level 16, State 0, Line 1\r\nCREATE SCHEMA failed due to previous errors.",
                    "traceback": []
                },
                {
                    "output_type": "error",
                    "ename": "",
                    "evalue": "Msg 15233, Level 16, State 1, Procedure sys.sp_addextendedproperty, Line 37\r\nProperty cannot be added. Property 'MS_Description' already exists for 'Fanzy'.",
                    "traceback": []
                },
                {
                    "output_type": "display_data",
                    "data": {
                        "text/html": "Total execution time: 00:00:00.028"
                    },
                    "metadata": {}
                }
            ],
            "execution_count": 4
        },
        {
            "cell_type": "markdown",
            "source": [
                "Create Shema Fanzy."
            ],
            "metadata": {
                "azdata_cell_guid": "14da22db-c1ba-419e-854d-2dc79b50cd55"
            }
        },
        {
            "cell_type": "code",
            "source": [
                "CREATE SCHEMA [Fanzy]\r\n",
                "GO"
            ],
            "metadata": {
                "azdata_cell_guid": "404e8208-e9eb-4fe9-b802-0ca462a4401e"
            },
            "outputs": [
                {
                    "output_type": "display_data",
                    "data": {
                        "text/html": "Commands completed successfully."
                    },
                    "metadata": {}
                },
                {
                    "output_type": "display_data",
                    "data": {
                        "text/html": "Total execution time: 00:00:00.013"
                    },
                    "metadata": {}
                }
            ],
            "execution_count": 3
        },
        {
            "cell_type": "markdown",
            "source": [
                "Create table Fanzy.Book"
            ],
            "metadata": {
                "azdata_cell_guid": "8a74db62-3a64-4a4b-972b-180e3da44718"
            }
        },
        {
            "cell_type": "code",
            "source": [
                "SET ANSI_NULLS ON\r\n",
                "GO\r\n",
                "SET QUOTED_IDENTIFIER ON\r\n",
                "GO\r\n",
                "CREATE TABLE [Fanzy].[Book](\r\n",
                "\t[ISBN] [nvarchar](13) NOT NULL,\r\n",
                "\t[Title] [varchar](255) NOT NULL,\r\n",
                "\t[Resume] [nvarchar](4000) NULL,\r\n",
                "\t[SalesPrice] [decimal](18, 0) NULL,\r\n",
                "\t[CountryId] [uniqueidentifier] NULL,\r\n",
                " CONSTRAINT [PK_Book] PRIMARY KEY CLUSTERED \r\n",
                "(\r\n",
                "\t[ISBN] ASC\r\n",
                ")WITH (PAD_INDEX = OFF, STATISTICS_NORECOMPUTE = OFF, IGNORE_DUP_KEY = OFF, ALLOW_ROW_LOCKS = ON, ALLOW_PAGE_LOCKS = ON, OPTIMIZE_FOR_SEQUENTIAL_KEY = OFF) ON [PRIMARY]\r\n",
                ") ON [PRIMARY]\r\n",
                "GO"
            ],
            "metadata": {
                "azdata_cell_guid": "eb6eba3c-99b8-4ccb-ab52-8b71dabc830d"
            },
            "outputs": [],
            "execution_count": null
        },
        {
            "cell_type": "markdown",
            "source": [
                "Create Fanzy.Category"
            ],
            "metadata": {
                "azdata_cell_guid": "ac7531d1-c1c9-49f5-bf97-8d6bb44dad21"
            }
        },
        {
            "cell_type": "code",
            "source": [
                "SET ANSI_NULLS ON\r\n",
                "GO\r\n",
                "SET QUOTED_IDENTIFIER ON\r\n",
                "GO\r\n",
                "CREATE TABLE [Fanzy].[BookCategory](\r\n",
                "\t[BookISBN] [nvarchar](13) NOT NULL,\r\n",
                "\t[CategoryId] [uniqueidentifier] NOT NULL,\r\n",
                " CONSTRAINT [PK_BookCategory] PRIMARY KEY CLUSTERED \r\n",
                "(\r\n",
                "\t[BookISBN] ASC,\r\n",
                "\t[CategoryId] ASC\r\n",
                ")WITH (PAD_INDEX = OFF, STATISTICS_NORECOMPUTE = OFF, IGNORE_DUP_KEY = OFF, ALLOW_ROW_LOCKS = ON, ALLOW_PAGE_LOCKS = ON, OPTIMIZE_FOR_SEQUENTIAL_KEY = OFF) ON [PRIMARY]\r\n",
                ") ON [PRIMARY]\r\n",
                "GO"
            ],
            "metadata": {
                "azdata_cell_guid": "69efcd42-f9bb-4eb7-b699-272463372164"
            },
            "outputs": [],
            "execution_count": null
        },
        {
            "cell_type": "markdown",
            "source": [
                "Create Fanzy.BookPublisher"
            ],
            "metadata": {
                "azdata_cell_guid": "eda81a7e-7e06-4203-8061-238fee60268b"
            }
        },
        {
            "cell_type": "code",
            "source": [
                "SET ANSI_NULLS ON\r\n",
                "GO\r\n",
                "SET QUOTED_IDENTIFIER ON\r\n",
                "GO\r\n",
                "CREATE TABLE [Fanzy].[BookPublisher](\r\n",
                "\t[BookISBN] [nvarchar](13) NOT NULL,\r\n",
                "\t[PublisherId] [uniqueidentifier] NOT NULL,\r\n",
                " CONSTRAINT [PK_BookPublisher] PRIMARY KEY CLUSTERED \r\n",
                "(\r\n",
                "\t[BookISBN] ASC,\r\n",
                "\t[PublisherId] ASC\r\n",
                ")WITH (PAD_INDEX = OFF, STATISTICS_NORECOMPUTE = OFF, IGNORE_DUP_KEY = OFF, ALLOW_ROW_LOCKS = ON, ALLOW_PAGE_LOCKS = ON, OPTIMIZE_FOR_SEQUENTIAL_KEY = OFF) ON [PRIMARY]\r\n",
                ") ON [PRIMARY]\r\n",
                "GO"
            ],
            "metadata": {
                "azdata_cell_guid": "c13eee18-2600-40a7-846a-f82490f11bfa"
            },
            "outputs": [],
            "execution_count": null
        },
        {
            "cell_type": "markdown",
            "source": [
                "Create Fanzy.BookWriter"
            ],
            "metadata": {
                "azdata_cell_guid": "293f93b5-7a5c-4c23-9410-d93fc10012a9"
            }
        },
        {
            "cell_type": "code",
            "source": [
                "SET ANSI_NULLS ON\r\n",
                "GO\r\n",
                "SET QUOTED_IDENTIFIER ON\r\n",
                "GO\r\n",
                "CREATE TABLE [Fanzy].[BookWriter](\r\n",
                "\t[BookISBN] [nvarchar](13) NOT NULL,\r\n",
                "\t[WriterId] [uniqueidentifier] NOT NULL,\r\n",
                " CONSTRAINT [PK_BookWriter] PRIMARY KEY CLUSTERED \r\n",
                "(\r\n",
                "\t[BookISBN] ASC,\r\n",
                "\t[WriterId] ASC\r\n",
                ")WITH (PAD_INDEX = OFF, STATISTICS_NORECOMPUTE = OFF, IGNORE_DUP_KEY = OFF, ALLOW_ROW_LOCKS = ON, ALLOW_PAGE_LOCKS = ON, OPTIMIZE_FOR_SEQUENTIAL_KEY = OFF) ON [PRIMARY]\r\n",
                ") ON [PRIMARY]\r\n",
                "GO"
            ],
            "metadata": {
                "azdata_cell_guid": "5a757d25-e2a9-4d0a-993b-a9fd54b8a728"
            },
            "outputs": [],
            "execution_count": null
        },
        {
            "cell_type": "markdown",
            "source": [
                "Create Fanzy.Category"
            ],
            "metadata": {
                "azdata_cell_guid": "1d48b72c-ff91-4bb0-a0cb-32cfa529eb4b"
            }
        },
        {
            "cell_type": "code",
            "source": [
                "SET ANSI_NULLS ON\r\n",
                "GO\r\n",
                "SET QUOTED_IDENTIFIER ON\r\n",
                "GO\r\n",
                "CREATE TABLE [Fanzy].[Category](\r\n",
                "\t[Id] [uniqueidentifier] NOT NULL,\r\n",
                "\t[Name] [nvarchar](100) NOT NULL,\r\n",
                "\t[Description] [nvarchar](4000) NULL,\r\n",
                " CONSTRAINT [PK_Category] PRIMARY KEY CLUSTERED \r\n",
                "(\r\n",
                "\t[Id] ASC\r\n",
                ")WITH (PAD_INDEX = OFF, STATISTICS_NORECOMPUTE = OFF, IGNORE_DUP_KEY = OFF, ALLOW_ROW_LOCKS = ON, ALLOW_PAGE_LOCKS = ON, OPTIMIZE_FOR_SEQUENTIAL_KEY = OFF) ON [PRIMARY]\r\n",
                ") ON [PRIMARY]\r\n",
                "GO"
            ],
            "metadata": {
                "azdata_cell_guid": "1356723f-bee0-4328-a751-2c67021794a6"
            },
            "outputs": [],
            "execution_count": null
        },
        {
            "cell_type": "markdown",
            "source": [
                "Create Fanzy.Country"
            ],
            "metadata": {
                "azdata_cell_guid": "0cdeb756-d74e-482c-be29-4a889525d8ab"
            }
        },
        {
            "cell_type": "code",
            "source": [
                "SET ANSI_NULLS ON\r\n",
                "GO\r\n",
                "SET QUOTED_IDENTIFIER ON\r\n",
                "GO\r\n",
                "CREATE TABLE [Fanzy].[Country](\r\n",
                "\t[Id] [uniqueidentifier] NOT NULL,\r\n",
                "\t[Name] [nvarchar](75) NOT NULL,\r\n",
                " CONSTRAINT [PK__Country] PRIMARY KEY CLUSTERED \r\n",
                "(\r\n",
                "\t[Id] ASC\r\n",
                ")WITH (PAD_INDEX = OFF, STATISTICS_NORECOMPUTE = OFF, IGNORE_DUP_KEY = OFF, ALLOW_ROW_LOCKS = ON, ALLOW_PAGE_LOCKS = ON, OPTIMIZE_FOR_SEQUENTIAL_KEY = OFF) ON [PRIMARY]\r\n",
                ") ON [PRIMARY]\r\n",
                "GO"
            ],
            "metadata": {
                "azdata_cell_guid": "caa80baa-2652-40f8-979e-1240f67ca5fa"
            },
            "outputs": [],
            "execution_count": null
        },
        {
            "cell_type": "markdown",
            "source": [
                "Create Fanzy.Publisher"
            ],
            "metadata": {
                "azdata_cell_guid": "e1448955-2836-42cc-b4e7-6b5c9b72bb6a"
            }
        },
        {
            "cell_type": "code",
            "source": [
                "SET ANSI_NULLS ON\r\n",
                "GO\r\n",
                "SET QUOTED_IDENTIFIER ON\r\n",
                "GO\r\n",
                "CREATE TABLE [Fanzy].[Publisher](\r\n",
                "\t[Id] [uniqueidentifier] NOT NULL,\r\n",
                "\t[Name] [nvarchar](100) NOT NULL,\r\n",
                "\t[Address] [nvarchar](100) NULL,\r\n",
                "\t[PostalCode] [int] NOT NULL,\r\n",
                "\t[City] [nvarchar](50) NULL,\r\n",
                "\t[CountryId] [uniqueidentifier] NULL,\r\n",
                " CONSTRAINT [PK_Publisher] PRIMARY KEY CLUSTERED \r\n",
                "(\r\n",
                "\t[Id] ASC\r\n",
                ")WITH (PAD_INDEX = OFF, STATISTICS_NORECOMPUTE = OFF, IGNORE_DUP_KEY = OFF, ALLOW_ROW_LOCKS = ON, ALLOW_PAGE_LOCKS = ON, OPTIMIZE_FOR_SEQUENTIAL_KEY = OFF) ON [PRIMARY]\r\n",
                ") ON [PRIMARY]\r\n",
                "GO"
            ],
            "metadata": {
                "azdata_cell_guid": "82807585-6b59-441a-a907-c6b4c9650086"
            },
            "outputs": [],
            "execution_count": null
        },
        {
            "cell_type": "markdown",
            "source": [
                "Create Fanzy.Writer"
            ],
            "metadata": {
                "azdata_cell_guid": "5e80ea33-e65d-4780-94d3-f4c6cc1df00c"
            }
        },
        {
            "cell_type": "code",
            "source": [
                "SET ANSI_NULLS ON\r\n",
                "GO\r\n",
                "SET QUOTED_IDENTIFIER ON\r\n",
                "GO\r\n",
                "CREATE TABLE [Fanzy].[Writer](\r\n",
                "\t[Id] [uniqueidentifier] NOT NULL,\r\n",
                "\t[FirstName] [nvarchar](100) NOT NULL,\r\n",
                "\t[LastName] [nvarchar](200) NULL,\r\n",
                "\t[Email] [nvarchar](200) NOT NULL,\r\n",
                " CONSTRAINT [PK_Fanzy.Writer] PRIMARY KEY CLUSTERED \r\n",
                "(\r\n",
                "\t[Id] ASC\r\n",
                ")WITH (PAD_INDEX = OFF, STATISTICS_NORECOMPUTE = OFF, IGNORE_DUP_KEY = OFF, ALLOW_ROW_LOCKS = ON, ALLOW_PAGE_LOCKS = ON, OPTIMIZE_FOR_SEQUENTIAL_KEY = OFF) ON [PRIMARY],\r\n",
                " CONSTRAINT [unique_writer_email] UNIQUE NONCLUSTERED \r\n",
                "(\r\n",
                "\t[Email] ASC\r\n",
                ")WITH (PAD_INDEX = OFF, STATISTICS_NORECOMPUTE = OFF, IGNORE_DUP_KEY = OFF, ALLOW_ROW_LOCKS = ON, ALLOW_PAGE_LOCKS = ON, OPTIMIZE_FOR_SEQUENTIAL_KEY = OFF) ON [PRIMARY]\r\n",
                ") ON [PRIMARY]\r\n",
                "GO"
            ],
            "metadata": {
                "azdata_cell_guid": "6d8249b0-e5ce-4ccb-b06a-1a9a35203e38"
            },
            "outputs": [],
            "execution_count": null
        },
        {
            "cell_type": "markdown",
            "source": [
                "Create Fanzy.WriterPublisher"
            ],
            "metadata": {
                "azdata_cell_guid": "8a98e686-0537-4ab0-9399-92b5c06b2875"
            }
        },
        {
            "cell_type": "code",
            "source": [
                "SET ANSI_NULLS ON\r\n",
                "GO\r\n",
                "SET QUOTED_IDENTIFIER ON\r\n",
                "GO\r\n",
                "CREATE TABLE [Fanzy].[WriterPublisher](\r\n",
                "\t[WriterId] [uniqueidentifier] NOT NULL,\r\n",
                "\t[PublisherId] [uniqueidentifier] NOT NULL,\r\n",
                " CONSTRAINT [PK_WriterPublisher] PRIMARY KEY CLUSTERED \r\n",
                "(\r\n",
                "\t[WriterId] ASC,\r\n",
                "\t[PublisherId] ASC\r\n",
                ")WITH (PAD_INDEX = OFF, STATISTICS_NORECOMPUTE = OFF, IGNORE_DUP_KEY = OFF, ALLOW_ROW_LOCKS = ON, ALLOW_PAGE_LOCKS = ON, OPTIMIZE_FOR_SEQUENTIAL_KEY = OFF) ON [PRIMARY]\r\n",
                ") ON [PRIMARY]\r\n",
                "GO"
            ],
            "metadata": {
                "azdata_cell_guid": "3add932f-214f-4240-92f3-4cdd820f1434"
            },
            "outputs": [],
            "execution_count": null
        },
        {
            "cell_type": "markdown",
            "source": [
                "Create foreign key relations"
            ],
            "metadata": {
                "azdata_cell_guid": "d6b4d8b9-2d27-455b-bca4-891e05978523"
            }
        },
        {
            "cell_type": "code",
            "source": [
                "\r\n",
                "ALTER TABLE [Fanzy].[Category] ADD  CONSTRAINT [DF_Category_Id]  DEFAULT (newid()) FOR [Id]\r\n",
                "GO\r\n",
                "ALTER TABLE [Fanzy].[Country] ADD  CONSTRAINT [DF_Country_Id]  DEFAULT (newid()) FOR [Id]\r\n",
                "GO\r\n",
                "ALTER TABLE [Fanzy].[Publisher] ADD  CONSTRAINT [DF_Publisher_Id]  DEFAULT (newid()) FOR [Id]\r\n",
                "GO\r\n",
                "ALTER TABLE [Fanzy].[Writer] ADD  CONSTRAINT [DF_Writer_Id]  DEFAULT (newid()) FOR [Id]\r\n",
                "GO\r\n",
                "ALTER TABLE [Fanzy].[Book]  WITH CHECK ADD  CONSTRAINT [FK_BookCountry_CountryId_Id] FOREIGN KEY([CountryId])\r\n",
                "REFERENCES [Fanzy].[Country] ([Id])\r\n",
                "GO\r\n",
                "ALTER TABLE [Fanzy].[Book] CHECK CONSTRAINT [FK_BookCountry_CountryId_Id]\r\n",
                "GO\r\n",
                "ALTER TABLE [Fanzy].[BookCategory]  WITH CHECK ADD  CONSTRAINT [FK_BookCategory:CategoryId_Id] FOREIGN KEY([CategoryId])\r\n",
                "REFERENCES [Fanzy].[Category] ([Id])\r\n",
                "GO\r\n",
                "ALTER TABLE [Fanzy].[BookCategory] CHECK CONSTRAINT [FK_BookCategory:CategoryId_Id]\r\n",
                "GO\r\n",
                "ALTER TABLE [Fanzy].[BookCategory]  WITH CHECK ADD  CONSTRAINT [FK_BookCategory_BookISBN_ISBN] FOREIGN KEY([BookISBN])\r\n",
                "REFERENCES [Fanzy].[Book] ([ISBN])\r\n",
                "GO\r\n",
                "ALTER TABLE [Fanzy].[BookCategory] CHECK CONSTRAINT [FK_BookCategory_BookISBN_ISBN]\r\n",
                "GO\r\n",
                "ALTER TABLE [Fanzy].[BookPublisher]  WITH CHECK ADD  CONSTRAINT [FK_BookPublisher_BookISBN_ISBN] FOREIGN KEY([BookISBN])\r\n",
                "REFERENCES [Fanzy].[Book] ([ISBN])\r\n",
                "GO\r\n",
                "ALTER TABLE [Fanzy].[BookPublisher] CHECK CONSTRAINT [FK_BookPublisher_BookISBN_ISBN]\r\n",
                "GO\r\n",
                "ALTER TABLE [Fanzy].[BookPublisher]  WITH CHECK ADD  CONSTRAINT [FK_BookPublisher_PublisherId_Id] FOREIGN KEY([PublisherId])\r\n",
                "REFERENCES [Fanzy].[Publisher] ([Id])\r\n",
                "GO\r\n",
                "ALTER TABLE [Fanzy].[BookPublisher] CHECK CONSTRAINT [FK_BookPublisher_PublisherId_Id]\r\n",
                "GO\r\n",
                "ALTER TABLE [Fanzy].[BookWriter]  WITH CHECK ADD  CONSTRAINT [FK_BookWriter_BookISBN_ISBN] FOREIGN KEY([BookISBN])\r\n",
                "REFERENCES [Fanzy].[Book] ([ISBN])\r\n",
                "GO\r\n",
                "ALTER TABLE [Fanzy].[BookWriter] CHECK CONSTRAINT [FK_BookWriter_BookISBN_ISBN]\r\n",
                "GO\r\n",
                "ALTER TABLE [Fanzy].[BookWriter]  WITH CHECK ADD  CONSTRAINT [FK_BookWriter_WriterId_Id] FOREIGN KEY([WriterId])\r\n",
                "REFERENCES [Fanzy].[Writer] ([Id])\r\n",
                "GO\r\n",
                "ALTER TABLE [Fanzy].[BookWriter] CHECK CONSTRAINT [FK_BookWriter_WriterId_Id]\r\n",
                "GO\r\n",
                "ALTER TABLE [Fanzy].[Publisher]  WITH CHECK ADD  CONSTRAINT [FK_PublisherCountry_CountryId_Id] FOREIGN KEY([CountryId])\r\n",
                "REFERENCES [Fanzy].[Country] ([Id])\r\n",
                "GO\r\n",
                "ALTER TABLE [Fanzy].[Publisher] CHECK CONSTRAINT [FK_PublisherCountry_CountryId_Id]\r\n",
                "GO\r\n",
                "ALTER TABLE [Fanzy].[WriterPublisher]  WITH CHECK ADD  CONSTRAINT [FK_WriterPublisher_PublisherId_Id] FOREIGN KEY([PublisherId])\r\n",
                "REFERENCES [Fanzy].[Publisher] ([Id])\r\n",
                "GO\r\n",
                "ALTER TABLE [Fanzy].[WriterPublisher] CHECK CONSTRAINT [FK_WriterPublisher_PublisherId_Id]\r\n",
                "GO\r\n",
                "ALTER TABLE [Fanzy].[WriterPublisher]  WITH CHECK ADD  CONSTRAINT [FK_WriterPublisher_WriterId_Id] FOREIGN KEY([WriterId])\r\n",
                "REFERENCES [Fanzy].[Writer] ([Id])\r\n",
                "GO\r\n",
                "ALTER TABLE [Fanzy].[WriterPublisher] CHECK CONSTRAINT [FK_WriterPublisher_WriterId_Id]\r\n",
                "GO"
            ],
            "metadata": {
                "azdata_cell_guid": "79975a4c-7c6c-437a-a0f7-41996ae1fd85"
            },
            "outputs": [],
            "execution_count": null
        },
        {
            "cell_type": "markdown",
            "source": [
                "Create Stored Procedures"
            ],
            "metadata": {
                "azdata_cell_guid": "c13f3fb1-1165-4062-b775-5c24fc77b98b"
            }
        },
        {
            "cell_type": "code",
            "source": [
                "SET ANSI_NULLS ON\r\n",
                "GO\r\n",
                "SET QUOTED_IDENTIFIER ON\r\n",
                "GO\r\n",
                "-- Create the stored procedure in the specified schema\r\n",
                "\r\n",
                "CREATE PROCEDURE [Fanzy].[GetBooks]\r\n",
                "    @BookISBN NVARCHAR(13),\r\n",
                "\t@Title VARCHAR(250),\r\n",
                "\t@Resume NVARCHAR(4000)\r\n",
                "\r\n",
                "AS\r\n",
                "\r\n",
                "BEGIN\r\n",
                "    \r\n",
                "\tSELECT \r\n",
                "\t\tfb.ISBN, fb.Title, fb.[Resume], fb.SalesPrice, fb.CountryId,\r\n",
                "\t\tfc.[Name]\r\n",
                "    FROM \r\n",
                "\t\tFanzy.Book fb\r\n",
                "\t\tINNER JOIN Fanzy.BookCategory fbc ON fbc.BookISBN = fb.ISBN\r\n",
                "\t\tINNER JOIN Fanzy.Category fc ON fc.Id = fbc.CategoryId\r\n",
                "    WHERE\r\n",
                "\t\tfb.ISBN LIKE '%' + ISNULL(@BookISBN, '') + '%'\r\n",
                "\t\tAND fb.Title LIKE '%' + ISNULL(@Title, '') + '%' \r\n",
                "\t\tAND fb.[Resume] LIKE '%' + ISNULL(@Resume, '') + '%' \r\n",
                "\r\n",
                "END\r\n",
                "GO"
            ],
            "metadata": {
                "azdata_cell_guid": "4bbe133c-c106-4093-93bb-7ab1a399475e"
            },
            "outputs": [],
            "execution_count": null
        }
    ]
}
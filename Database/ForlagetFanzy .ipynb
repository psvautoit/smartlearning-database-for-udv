{
    "metadata": {
        "kernelspec": {
            "name": "SQL",
            "display_name": "SQL",
            "language": "sql"
        },
        "language_info": {
            "name": "sql",
            "version": ""
        }
    },
    "nbformat_minor": 2,
    "nbformat": 4,
    "cells": [
        {
            "cell_type": "code",
            "source": [
                "SELECT TOP (1000) [AddressID]\n",
                "      ,[AddressLine1]\n",
                "      ,[AddressLine2]\n",
                "      ,[City]\n",
                "      ,[StateProvinceID]\n",
                "      ,[PostalCode]\n",
                "      ,[SpatialLocation]\n",
                "      ,[rowguid]\n",
                "      ,[ModifiedDate]\n",
                "  FROM [AdventureWorks2019].[Person].[Address]\n",
                ""
            ],
            "metadata": {
                "azdata_cell_guid": "e6b740c8-0443-439c-9539-57b349362be0"
            },
            "outputs": [
{
    "output_type": "error",
    "evalue": "Execution failed due to an unexpected error: \r\n\tCannot connect to the database due to invalid OwnerUri (Parameter 'OwnerUri')",
    "ename": "",
    "traceback": []
}, {
    "output_type": "display_data",
    "data": {
        "text/html": "Total execution time: 00:00:00"
    },
    "metadata": {}
}
],
            "execution_count": null
        }
    ]
}
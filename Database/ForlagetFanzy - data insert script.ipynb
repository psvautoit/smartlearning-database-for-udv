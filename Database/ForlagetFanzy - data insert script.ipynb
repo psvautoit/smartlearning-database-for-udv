{
    "metadata": {
        "kernelspec": {
            "name": "SQL",
            "display_name": "SQL",
            "language": "sql"
        },
        "language_info": {
            "name": "sql",
            "version": ""
        }
    },
    "nbformat_minor": 2,
    "nbformat": 4,
    "cells": [
        {
            "cell_type": "markdown",
            "source": [
                "**Switch to Smartlearning Database**"
            ],
            "metadata": {
                "azdata_cell_guid": "4848203f-7f3a-4ef3-b455-d7f065b72121"
            }
        },
        {
            "cell_type": "code",
            "source": [
                "USE [Smartlearning]\r\n",
                "GO"
            ],
            "metadata": {
                "azdata_cell_guid": "331958fd-5af0-44f7-9d1c-3cc52957dbfc"
            },
            "outputs": [],
            "execution_count": null
        },
        {
            "cell_type": "markdown",
            "source": [
                "**Here is my data script - feel fre to make you own**"
            ],
            "metadata": {
                "azdata_cell_guid": "39ba2e8e-f619-4dad-9e9f-566e981ffe63"
            }
        },
        {
            "cell_type": "code",
            "source": [
                "INSERT [Fanzy].[Country] ([Id], [Name]) VALUES (N'70f6d2ea-9b56-48a6-b287-0858d7ab08da', N'Belgium')\r\n",
                "GO\r\n",
                "INSERT [Fanzy].[Country] ([Id], [Name]) VALUES (N'1f3414dd-2d07-4237-81ee-0b468032c915', N'Austria')\r\n",
                "GO\r\n",
                "INSERT [Fanzy].[Country] ([Id], [Name]) VALUES (N'e2101e94-944e-48e2-821c-41c331cbf6bd', N'Poland')\r\n",
                "GO\r\n",
                "INSERT [Fanzy].[Country] ([Id], [Name]) VALUES (N'801b04bc-b1c4-4716-a436-4b9724ca6a9e', N'Holland')\r\n",
                "GO\r\n",
                "INSERT [Fanzy].[Country] ([Id], [Name]) VALUES (N'3b67ea9b-2228-4dfc-b240-7dccd171a3fe', N'Sweden')\r\n",
                "GO\r\n",
                "INSERT [Fanzy].[Country] ([Id], [Name]) VALUES (N'569f6441-fea6-414a-a683-939b35ea9f08', N'Norway')\r\n",
                "GO\r\n",
                "INSERT [Fanzy].[Country] ([Id], [Name]) VALUES (N'fef391f7-dec7-4ceb-af17-9d46f5e08464', N'England')\r\n",
                "GO\r\n",
                "INSERT [Fanzy].[Country] ([Id], [Name]) VALUES (N'f22ed4f7-70f0-46b0-976b-d57407f959d7', N'Spain')\r\n",
                "GO\r\n",
                "INSERT [Fanzy].[Country] ([Id], [Name]) VALUES (N'0f2f6bc7-ef60-4f6b-8a70-d8acad3c9be1', N'Germany')\r\n",
                "GO\r\n",
                "INSERT [Fanzy].[Country] ([Id], [Name]) VALUES (N'2381e11b-d89b-4c6f-92a0-d9612fdbcbb0', N'Sweden')\r\n",
                "GO\r\n",
                "INSERT [Fanzy].[Country] ([Id], [Name]) VALUES (N'b732bcff-6a00-439a-962a-f3ac2232a70d', N'Denmark')\r\n",
                "GO\r\n",
                "INSERT [Fanzy].[Country] ([Id], [Name]) VALUES (N'2b37177b-e5b0-4bb3-b565-f8d68e19b25f', N'Italy')\r\n",
                "GO\r\n",
                "INSERT [Fanzy].[Country] ([Id], [Name]) VALUES (N'4d552d32-2ca5-46cf-b5cd-ff2624eee7ca', N'France')\r\n",
                "GO\r\n",
                "INSERT [Fanzy].[Publisher] ([Id], [Name], [Address], [PostalCode], [City], [CountryId]) VALUES (N'bd030d36-f365-481d-94e2-8054086bcc54', N'Gyldendal', N'Ahlgade 44', 4000, N'Roskilde', N'b732bcff-6a00-439a-962a-f3ac2232a70d')\r\n",
                "GO\r\n",
                "INSERT [Fanzy].[Writer] ([Id], [FirstName], [LastName], [Email]) VALUES (N'338a2f9f-7f45-4764-a058-00caf349081f', N'Marianne', N'Klausen', N'mk@test.dk')\r\n",
                "GO\r\n",
                "INSERT [Fanzy].[Writer] ([Id], [FirstName], [LastName], [Email]) VALUES (N'965b84e9-16a6-4814-9f26-01ab917e87b0', N'J. K.', N'J. K. Rowling', N'jk@test.com')\r\n",
                "GO\r\n",
                "INSERT [Fanzy].[Writer] ([Id], [FirstName], [LastName], [Email]) VALUES (N'53cc9473-8fca-497b-9470-2d9b8ad7e02d', N'Hanne', N'Vibeke', N'hv@test.dk')\r\n",
                "GO\r\n",
                "INSERT [Fanzy].[Writer] ([Id], [FirstName], [LastName], [Email]) VALUES (N'50ff65f3-5665-46e0-a280-59baf53cea68', N'Jørgen', N'Hanse', N'jh@test.dk')\r\n",
                "GO\r\n",
                "INSERT [Fanzy].[Writer] ([Id], [FirstName], [LastName], [Email]) VALUES (N'bb6a3714-6675-488b-9e50-5c0b056bcf22', N'Jens', N'Jense', N'jens@test.dk')\r\n",
                "GO\r\n",
                "INSERT [Fanzy].[Writer] ([Id], [FirstName], [LastName], [Email]) VALUES (N'fe71cc52-9481-4498-9503-656c6bb8666c', N'Philip', N'Svemdsem', N'psv@autoit.dk')\r\n",
                "GO\r\n",
                "INSERT [Fanzy].[Writer] ([Id], [FirstName], [LastName], [Email]) VALUES (N'b88b275d-f353-4674-94e3-a68a85638e8f', N'Hans Christian', N'Andersen', N'hca@test.dk')\r\n",
                "GO\r\n",
                "INSERT [Fanzy].[Writer] ([Id], [FirstName], [LastName], [Email]) VALUES (N'e51c1407-d7fe-47e2-8423-a6f248c31728', N'Klaus', N'Hansen', N'kh@test.dk')\r\n",
                "GO\r\n",
                "INSERT [Fanzy].[Writer] ([Id], [FirstName], [LastName], [Email]) VALUES (N'9587d96a-952e-433c-b8e6-b3d96fac06b0', N'Signe', N'Svensen', N'ss@test.dk')\r\n",
                "GO\r\n",
                "INSERT [Fanzy].[Writer] ([Id], [FirstName], [LastName], [Email]) VALUES (N'25d25019-ca52-4ef7-86ba-d031fbb9141c', N'Victor', N'Sørensen', N'vs@test.dk')\r\n",
                "GO\r\n",
                "INSERT [Fanzy].[WriterPublisher] ([WriterId], [PublisherId]) VALUES (N'965b84e9-16a6-4814-9f26-01ab917e87b0', N'bd030d36-f365-481d-94e2-8054086bcc54')\r\n",
                "GO\r\n",
                "INSERT [Fanzy].[Book] ([ISBN], [Title], [Resume], [SalesPrice], [CountryId]) VALUES (N'9788702173246', N'Harry Potter 2', N'', CAST(650 AS Decimal(18, 0)), N'fef391f7-dec7-4ceb-af17-9d46f5e08464')\r\n",
                "GO\r\n",
                "INSERT [Fanzy].[Book] ([ISBN], [Title], [Resume], [SalesPrice], [CountryId]) VALUES (N'9788702173253', N'Harry Potter 3', N'', CAST(430 AS Decimal(18, 0)), N'fef391f7-dec7-4ceb-af17-9d46f5e08464')\r\n",
                "GO\r\n",
                "INSERT [Fanzy].[Book] ([ISBN], [Title], [Resume], [SalesPrice], [CountryId]) VALUES (N'9788702215694', N'Harry Potter Flammens Pokal', N'', CAST(500 AS Decimal(18, 0)), N'fef391f7-dec7-4ceb-af17-9d46f5e08464')\r\n",
                "GO\r\n",
                "INSERT [Fanzy].[BookPublisher] ([BookISBN], [PublisherId]) VALUES (N'9788702173246', N'bd030d36-f365-481d-94e2-8054086bcc54')\r\n",
                "GO\r\n",
                "INSERT [Fanzy].[BookPublisher] ([BookISBN], [PublisherId]) VALUES (N'9788702173253', N'bd030d36-f365-481d-94e2-8054086bcc54')\r\n",
                "GO\r\n",
                "INSERT [Fanzy].[BookPublisher] ([BookISBN], [PublisherId]) VALUES (N'9788702215694', N'bd030d36-f365-481d-94e2-8054086bcc54')\r\n",
                "GO\r\n",
                "INSERT [Fanzy].[Category] ([Id], [Name], [Description]) VALUES (N'9787f34a-6db2-484d-9a93-0f1f8e683c5c', N'Science fiction', N'')\r\n",
                "GO\r\n",
                "INSERT [Fanzy].[Category] ([Id], [Name], [Description]) VALUES (N'8c2bb2ce-b731-4f6c-b2b1-1055f629dbeb', N'Drama', N'')\r\n",
                "GO\r\n",
                "INSERT [Fanzy].[Category] ([Id], [Name], [Description]) VALUES (N'aa9a9bdc-e5f3-4462-954a-38179fc470b8', N'Crime', N'')\r\n",
                "GO\r\n",
                "INSERT [Fanzy].[Category] ([Id], [Name], [Description]) VALUES (N'ef817f9f-f26f-43d1-abf8-525053172476', N'Thriller', N'')\r\n",
                "GO\r\n",
                "INSERT [Fanzy].[Category] ([Id], [Name], [Description]) VALUES (N'52129d0c-f4b5-4452-af3a-9c2479bc40ee', N'Biografy', N'')\r\n",
                "GO\r\n",
                "INSERT [Fanzy].[BookCategory] ([BookISBN], [CategoryId]) VALUES (N'9788702173246', N'9787f34a-6db2-484d-9a93-0f1f8e683c5c')\r\n",
                "GO\r\n",
                "INSERT [Fanzy].[BookCategory] ([BookISBN], [CategoryId]) VALUES (N'9788702173253', N'9787f34a-6db2-484d-9a93-0f1f8e683c5c')\r\n",
                "GO\r\n",
                "INSERT [Fanzy].[BookCategory] ([BookISBN], [CategoryId]) VALUES (N'9788702215694', N'9787f34a-6db2-484d-9a93-0f1f8e683c5c')\r\n",
                "GO\r\n",
                "INSERT [Fanzy].[BookCategory] ([BookISBN], [CategoryId]) VALUES (N'9788702215694', N'8c2bb2ce-b731-4f6c-b2b1-1055f629dbeb')\r\n",
                "GO\r\n",
                "INSERT [Fanzy].[BookWriter] ([BookISBN], [WriterId]) VALUES (N'9788702173246', N'965b84e9-16a6-4814-9f26-01ab917e87b0')\r\n",
                "GO\r\n",
                "INSERT [Fanzy].[BookWriter] ([BookISBN], [WriterId]) VALUES (N'9788702173253', N'965b84e9-16a6-4814-9f26-01ab917e87b0')\r\n",
                "GO\r\n",
                "INSERT [Fanzy].[BookWriter] ([BookISBN], [WriterId]) VALUES (N'9788702215694', N'965b84e9-16a6-4814-9f26-01ab917e87b0')\r\n",
                "GO\r\n",
                ""
            ],
            "metadata": {
                "azdata_cell_guid": "5961fa3f-62db-473d-a9c2-93056b295366"
            },
            "outputs": [],
            "execution_count": null
        }
    ]
}
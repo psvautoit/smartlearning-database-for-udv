{
    "metadata": {
        "kernelspec": {
            "name": "SQL",
            "display_name": "SQL",
            "language": "sql"
        },
        "language_info": {
            "name": "sql",
            "version": ""
        }
    },
    "nbformat_minor": 2,
    "nbformat": 4,
    "cells": [
        {
            "cell_type": "markdown",
            "source": [
                "Opgave aflvering uge 3"
            ],
            "metadata": {
                "azdata_cell_guid": "a7d1c833-1bb8-46f1-b897-39c54d236755"
            }
        }
    ]
}